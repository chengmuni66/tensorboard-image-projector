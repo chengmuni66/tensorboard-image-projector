{
 "cells": [
  {
   "cell_type": "code",
   "execution_count": 1,
   "metadata": {
    "ExecuteTime": {
     "end_time": "2018-07-27T01:24:06.249684Z",
     "start_time": "2018-07-27T01:24:04.127220Z"
    }
   },
   "outputs": [
    {
     "name": "stderr",
     "output_type": "stream",
     "text": [
      "/Users/victoria/anaconda/envs/python27/lib/python2.7/site-packages/h5py/__init__.py:36: FutureWarning: Conversion of the second argument of issubdtype from `float` to `np.floating` is deprecated. In future, it will be treated as `np.float64 == np.dtype(float).type`.\n",
      "  from ._conv import register_converters as _register_converters\n"
     ]
    }
   ],
   "source": [
    "import os\n",
    "import os.path\n",
    "import tensorflow as tf\n",
    "import numpy as np\n",
    "import cv2\n",
    "import matplotlib.pyplot as plt\n",
    "%matplotlib inline"
   ]
  },
  {
   "cell_type": "markdown",
   "metadata": {},
   "source": [
    "# Get image feature vectors "
   ]
  },
  {
   "cell_type": "markdown",
   "metadata": {},
   "source": [
    "## Method 1: Transform images with the TF Image Feature Vector Module"
   ]
  },
  {
   "cell_type": "markdown",
   "metadata": {},
   "source": [
    "Introduced at the end of March 2018, Tensorflow Hub is a  library of reusable modules, or parts of machine learning models; more specifically, a self-contained piece of a Tensorflow graph, along with its weights and assets. Common signatures are implemented by modules for the same task so that switching modules is as simple as switching a string-valued hyperparameter. \n",
    "\n",
    "For example, this module (\"https://tfhub.dev/google/imagenet/inception_v3/feature_vector/1\") uses the tf-slim inception v3 trained networked, packaged to get feature vectors from images. The image feature vector module produces a dense 1-D tensor that discards the classification learned by publisher model. Feature vectors AKA bottleneck values are the layer just before the final output layer in the neural network, meaning this small set of values must contain a summary of the images with enough information for the classifier to make a good choice.\n",
    "\n",
    "For this module, the size of the input image is fixed to height x width = 299 x 299 pixels. The input images are expected to have color values in the range [0,1], following the common image input conventions. The common image input signature accepts a batch of images as dense 4-D tensor of dtype float32 and shape [batch_size, height, width, 3]. This is what you get from tf.images.decode followed by tf.image.convert_image_dtype(..., tf.float32).\n",
    "\n",
    "More details on how to use this module are here: https://www.tensorflow.org/hub/common_signatures/images#feature-vector"
   ]
  },
  {
   "cell_type": "markdown",
   "metadata": {
    "ExecuteTime": {
     "end_time": "2018-07-20T23:01:36.806004Z",
     "start_time": "2018-07-20T23:01:36.800390Z"
    }
   },
   "source": [
    "## Method 2: Read TFRecords with the TF Data API"
   ]
  },
  {
   "cell_type": "markdown",
   "metadata": {},
   "source": [
    "Because we've already trained a model and saved the data as TFRecords, we can read those back in to get the image feature vectors rather than recreate them from images. \n",
    "\n",
    "The TFRecord file format is a record-oriented binary format. TensorFlow defines two protocol buffer message types for use with TFRecords: the Example message type and the SequenceExample message type. An Example contains a key-value store (features); where each key (string) maps to a Feature message (which is one of packed BytesList, FloatList, or Int64List). \n",
    "\n",
    "We can extract Example protocol buffer messages from the TFRecord. Each Example contains one or more features and the input pipeline will convert these features into tensors. We can examine an Example to understand the features."
   ]
  },
  {
   "cell_type": "code",
   "execution_count": 2,
   "metadata": {
    "ExecuteTime": {
     "end_time": "2018-07-27T01:24:06.262455Z",
     "start_time": "2018-07-27T01:24:06.254549Z"
    },
    "collapsed": true
   },
   "outputs": [],
   "source": [
    "my_example = tf.train.Example(features=tf.train.Features(feature={\n",
    "    'my_ints': tf.train.Feature(int64_list=tf.train.Int64List(value=[5, 6])),\n",
    "    'my_float': tf.train.Feature(float_list=tf.train.FloatList(value=[2.7])),\n",
    "    'my_bytes': tf.train.Feature(bytes_list=tf.train.BytesList(value=['data']))\n",
    "}))"
   ]
  },
  {
   "cell_type": "code",
   "execution_count": 3,
   "metadata": {
    "ExecuteTime": {
     "end_time": "2018-07-27T01:24:06.279108Z",
     "start_time": "2018-07-27T01:24:06.268649Z"
    },
    "collapsed": true
   },
   "outputs": [],
   "source": [
    "reader = tf.python_io.tf_record_iterator('/Users/victoria/honey-data-science/product_tagging/preproc/deepstyle/wc/v2/test-00000-of-00043.tfrecord')\n",
    "those_examples = [tf.train.Example().FromString(example_str)\n",
    "                  for example_str in reader]"
   ]
  },
  {
   "cell_type": "code",
   "execution_count": 4,
   "metadata": {
    "ExecuteTime": {
     "end_time": "2018-07-27T01:24:06.291770Z",
     "start_time": "2018-07-27T01:24:06.285225Z"
    },
    "collapsed": true
   },
   "outputs": [],
   "source": [
    "my_example = those_examples[0]"
   ]
  },
  {
   "cell_type": "code",
   "execution_count": 5,
   "metadata": {
    "ExecuteTime": {
     "end_time": "2018-07-27T01:24:06.302879Z",
     "start_time": "2018-07-27T01:24:06.297393Z"
    },
    "collapsed": true
   },
   "outputs": [],
   "source": [
    "#my_example"
   ]
  },
  {
   "cell_type": "markdown",
   "metadata": {},
   "source": [
    "The values in the Example can be accessed like this."
   ]
  },
  {
   "cell_type": "code",
   "execution_count": 6,
   "metadata": {
    "ExecuteTime": {
     "end_time": "2018-07-27T01:24:06.321856Z",
     "start_time": "2018-07-27T01:24:06.308063Z"
    }
   },
   "outputs": [
    {
     "data": {
      "text/plain": [
       "['gs://honey-data-science/product_tagging/images/wc_business_v2/1B074RCTQSC.jpg']"
      ]
     },
     "execution_count": 6,
     "metadata": {},
     "output_type": "execute_result"
    }
   ],
   "source": [
    "my_example.features.feature['image_uri'].bytes_list.value"
   ]
  },
  {
   "cell_type": "code",
   "execution_count": 7,
   "metadata": {
    "ExecuteTime": {
     "end_time": "2018-07-27T01:24:06.336759Z",
     "start_time": "2018-07-27T01:24:06.326687Z"
    }
   },
   "outputs": [
    {
     "data": {
      "text/plain": [
       "[0L]"
      ]
     },
     "execution_count": 7,
     "metadata": {},
     "output_type": "execute_result"
    }
   ],
   "source": [
    "my_example.features.feature['label'].int64_list.value"
   ]
  },
  {
   "cell_type": "code",
   "execution_count": 8,
   "metadata": {
    "ExecuteTime": {
     "end_time": "2018-07-27T01:24:06.352478Z",
     "start_time": "2018-07-27T01:24:06.342028Z"
    }
   },
   "outputs": [
    {
     "data": {
      "text/plain": [
       "[0.06211639195680618,\n",
       " 0.3119525611400604,\n",
       " 0.4375796318054199,\n",
       " 0.33791661262512207,\n",
       " 0.2100047469139099]"
      ]
     },
     "execution_count": 8,
     "metadata": {},
     "output_type": "execute_result"
    }
   ],
   "source": [
    "my_example.features.feature['embedding'].float_list.value[:5]"
   ]
  },
  {
   "cell_type": "markdown",
   "metadata": {
    "ExecuteTime": {
     "end_time": "2018-07-24T23:59:01.190218Z",
     "start_time": "2018-07-24T23:59:01.182857Z"
    }
   },
   "source": [
    "### Step 1: Make a Dataset"
   ]
  },
  {
   "cell_type": "markdown",
   "metadata": {},
   "source": [
    "The QueueRunner and Feeding methods of inputting data are no longer recommended, instead the preferred method is to use the tf.data API. The tf.data API has two abstractions: Dataset and Iterator. \n",
    "\n",
    "The recommended way to read a TFRecord file is with a TFRecordDataset. The TFRecordDataset class enables you to stream over the contents of one or more TFRecord files as part of an input pipeline. \n",
    "\n",
    "A Dataset represents a sequence of elements, in which each element contains one or more Tensor objects, called components. The Dataset.output_types and Dataset.output_shapes properties allow you to inspect the inferred types and shapes of each component. Tensors are generalizations of vectors and matrices to higher dimensions, represented internally as n-dimensional arrays of base datatypes. A Tensor object represents a partially defined computation that will eventually produce a value.\n",
    "\n",
    "For example, in an image pipeline, an element might be a single training example, with a pair of tensors representing the image data and a label. "
   ]
  },
  {
   "cell_type": "code",
   "execution_count": 9,
   "metadata": {
    "ExecuteTime": {
     "end_time": "2018-07-27T01:24:06.384472Z",
     "start_time": "2018-07-27T01:24:06.357782Z"
    },
    "collapsed": true
   },
   "outputs": [],
   "source": [
    "mypath = \"/Users/victoria/honey-data-science/product_tagging/preproc/deepstyle/wc/v2\"\n",
    "filenames = [os.path.join(mypath, f) for f in os.listdir(mypath) if os.path.isfile(os.path.join(mypath, f))]\n",
    "dataset = tf.data.TFRecordDataset(filenames)"
   ]
  },
  {
   "cell_type": "markdown",
   "metadata": {},
   "source": [
    "### Step 2: Transform a Dataset"
   ]
  },
  {
   "cell_type": "markdown",
   "metadata": {},
   "source": [
    "Once you have a Dataset object, you can transform it into a new Dataset by chaining method calls on it. For example, you can apply per-element transformations such as Dataset.map() to apply a function to each element. "
   ]
  },
  {
   "cell_type": "code",
   "execution_count": 10,
   "metadata": {
    "ExecuteTime": {
     "end_time": "2018-07-27T01:24:06.396436Z",
     "start_time": "2018-07-27T01:24:06.389109Z"
    },
    "collapsed": true
   },
   "outputs": [],
   "source": [
    "# Define features\n",
    "read_features = {\n",
    "    'embedding': tf.VarLenFeature(dtype=tf.float32),\n",
    "    'image_uri': tf.VarLenFeature(dtype=tf.string),\n",
    "    'label': tf.VarLenFeature(dtype=tf.int64)}"
   ]
  },
  {
   "cell_type": "code",
   "execution_count": 11,
   "metadata": {
    "ExecuteTime": {
     "end_time": "2018-07-27T01:24:06.407949Z",
     "start_time": "2018-07-27T01:24:06.401524Z"
    },
    "collapsed": true
   },
   "outputs": [],
   "source": [
    "def parser(serialized_example):\n",
    "    parsed = tf.parse_single_example(serialized=serialized_example,\n",
    "                                    features=read_features)\n",
    "    return parsed[\"label\"], parsed[\"embedding\"], parsed[\"image_uri\"]"
   ]
  },
  {
   "cell_type": "code",
   "execution_count": 12,
   "metadata": {
    "ExecuteTime": {
     "end_time": "2018-07-27T01:24:06.428651Z",
     "start_time": "2018-07-27T01:24:06.412868Z"
    },
    "collapsed": true
   },
   "outputs": [],
   "source": [
    "dataset = dataset.map(parser)"
   ]
  },
  {
   "cell_type": "markdown",
   "metadata": {
    "ExecuteTime": {
     "end_time": "2018-07-25T00:08:00.513066Z",
     "start_time": "2018-07-25T00:08:00.508498Z"
    }
   },
   "source": [
    "### Step 3: Iterate over the Dataset"
   ]
  },
  {
   "cell_type": "markdown",
   "metadata": {},
   "source": [
    "The most common way to consume values from a Dataset is to make an iterator object that provides access to one element of the dataset at a time. The Iterator.get_next() method returns one or more Tensor objects that correspond to the symbolic next element of an iterator."
   ]
  },
  {
   "cell_type": "code",
   "execution_count": 13,
   "metadata": {
    "ExecuteTime": {
     "end_time": "2018-07-27T01:24:06.447817Z",
     "start_time": "2018-07-27T01:24:06.433854Z"
    },
    "collapsed": true
   },
   "outputs": [],
   "source": [
    "iterator = dataset.make_initializable_iterator()"
   ]
  },
  {
   "cell_type": "code",
   "execution_count": 14,
   "metadata": {
    "ExecuteTime": {
     "end_time": "2018-07-27T01:24:06.466889Z",
     "start_time": "2018-07-27T01:24:06.453425Z"
    },
    "collapsed": true
   },
   "outputs": [],
   "source": [
    "next_element = iterator.get_next()"
   ]
  },
  {
   "cell_type": "markdown",
   "metadata": {},
   "source": [
    "### Step 4: Run the TF session"
   ]
  },
  {
   "cell_type": "markdown",
   "metadata": {},
   "source": [
    "Calling Iterator.get_next() does not immediately advance the iterator. Instead you must use the returned Tensor objects in a TensorFlow expression, and pass the result of that expression to tf.Session.run() to get the next elements and advance the iterator.\n",
    "\n",
    "TensorFlow represents a sparse tensor as three separate dense tensors: indices, values, and dense_shape. In Python, the three tensors are collected into a SparseTensor class for ease of use. Tensors can be accessed as arrays with .eval(), then the values can then be accessed."
   ]
  },
  {
   "cell_type": "code",
   "execution_count": 15,
   "metadata": {
    "ExecuteTime": {
     "end_time": "2018-07-27T01:24:07.902608Z",
     "start_time": "2018-07-27T01:24:06.472290Z"
    }
   },
   "outputs": [
    {
     "name": "stdout",
     "output_type": "stream",
     "text": [
      "971\n",
      "971\n",
      "971\n"
     ]
    }
   ],
   "source": [
    "embeddings = []\n",
    "labels = []\n",
    "uris = []\n",
    "sess = tf.Session()\n",
    "\n",
    "# A common pattern is to wrap the \"training loop\" in a try-except block:\n",
    "sess.run(iterator.initializer)\n",
    "while True:\n",
    "    try:\n",
    "        labels.extend(next_element[0].eval(session=sess).values)\n",
    "    except tf.errors.OutOfRangeError:\n",
    "        break\n",
    "print(len(labels))\n",
    "\n",
    "sess.run(iterator.initializer)\n",
    "while True:\n",
    "    try:\n",
    "        embeddings.append(next_element[1].eval(session=sess).values)\n",
    "    except tf.errors.OutOfRangeError:\n",
    "        break\n",
    "embeddings = np.array(embeddings)\n",
    "print(len(embeddings))\n",
    "\n",
    "sess.run(iterator.initializer)\n",
    "while True:\n",
    "    try:\n",
    "        uris.extend(next_element[2].eval(session=sess).values)\n",
    "    except tf.errors.OutOfRangeError:\n",
    "        break\n",
    "print(len(uris))"
   ]
  },
  {
   "cell_type": "markdown",
   "metadata": {
    "ExecuteTime": {
     "end_time": "2018-07-19T21:36:32.045300Z",
     "start_time": "2018-07-19T21:36:32.039879Z"
    }
   },
   "source": [
    "# Configure Tensorboard Projector"
   ]
  },
  {
   "cell_type": "markdown",
   "metadata": {
    "ExecuteTime": {
     "end_time": "2018-07-27T01:18:42.438261Z",
     "start_time": "2018-07-27T01:18:42.433361Z"
    }
   },
   "source": [
    "## Method 1: With labels only"
   ]
  },
  {
   "cell_type": "markdown",
   "metadata": {
    "ExecuteTime": {
     "end_time": "2018-07-25T23:43:16.553334Z",
     "start_time": "2018-07-25T23:43:16.548584Z"
    }
   },
   "source": [
    "### Save labels"
   ]
  },
  {
   "cell_type": "markdown",
   "metadata": {
    "ExecuteTime": {
     "end_time": "2018-07-27T01:20:07.386214Z",
     "start_time": "2018-07-27T01:20:07.377937Z"
    }
   },
   "source": [
    "The labels are written to a tab-separated metadata csv file. "
   ]
  },
  {
   "cell_type": "code",
   "execution_count": 16,
   "metadata": {
    "ExecuteTime": {
     "end_time": "2018-07-27T01:24:09.530062Z",
     "start_time": "2018-07-27T01:24:07.907522Z"
    }
   },
   "outputs": [
    {
     "name": "stdout",
     "output_type": "stream",
     "text": [
      "WARNING:tensorflow:From /Users/victoria/anaconda/envs/python27/lib/python2.7/site-packages/tensorflow/contrib/learn/python/learn/datasets/base.py:198: retry (from tensorflow.contrib.learn.python.learn.datasets.base) is deprecated and will be removed in a future version.\n",
      "Instructions for updating:\n",
      "Use the retry module or similar alternatives.\n"
     ]
    }
   ],
   "source": [
    "from tensorflow.contrib.tensorboard.plugins import projector\n",
    "\n",
    "LOG_DIR = 'image_projector_test'\n",
    "metadata = os.path.join(LOG_DIR, 'metadata.tsv')"
   ]
  },
  {
   "cell_type": "code",
   "execution_count": 17,
   "metadata": {
    "ExecuteTime": {
     "end_time": "2018-07-27T01:24:09.546902Z",
     "start_time": "2018-07-27T01:24:09.536952Z"
    },
    "collapsed": true
   },
   "outputs": [],
   "source": [
    "with open(metadata, 'w') as metadata_file:\n",
    "    for i in labels:\n",
    "        metadata_file.write('%s\\n' % i)"
   ]
  },
  {
   "cell_type": "markdown",
   "metadata": {},
   "source": [
    "### Save embeddings"
   ]
  },
  {
   "cell_type": "markdown",
   "metadata": {
    "ExecuteTime": {
     "end_time": "2018-07-27T01:21:08.012413Z",
     "start_time": "2018-07-27T01:21:08.002170Z"
    }
   },
   "source": [
    "The image embeddings are stored as a Tensorflow variable. A TensorFlow variable is the best way to represent a shared, persistent state manipulated by your program. A Variable represents a tensor whose value can be changed by running ops on it. \n",
    "\n",
    "Unlike Tensor objects, a Variable exists outside the context of a single session.run call.\n",
    "Variables have to be explicitly initialized before you can run Ops that use their value. You can initialize a variable by running its initializer op, restoring the variable from a save file, or simply running an assign Op that assigns a value to the variable. The image variables are initialized and stored in images.ckpt"
   ]
  },
  {
   "cell_type": "code",
   "execution_count": 18,
   "metadata": {
    "ExecuteTime": {
     "end_time": "2018-07-27T01:24:09.837663Z",
     "start_time": "2018-07-27T01:24:09.553197Z"
    },
    "collapsed": true
   },
   "outputs": [],
   "source": [
    "images = tf.Variable(embeddings, name='images')\n",
    "\n",
    "with tf.Session() as sess:\n",
    "    saver = tf.train.Saver([images])\n",
    "    \n",
    "    sess.run(images.initializer)\n",
    "    saver.save(sess, os.path.join(LOG_DIR, 'images.ckpt'))"
   ]
  },
  {
   "cell_type": "markdown",
   "metadata": {},
   "source": [
    "### Add the embeddings and metadata to the projector config"
   ]
  },
  {
   "cell_type": "markdown",
   "metadata": {},
   "source": [
    "Then the projector config is linked to the image embeddings and their metadata."
   ]
  },
  {
   "cell_type": "code",
   "execution_count": 19,
   "metadata": {
    "ExecuteTime": {
     "end_time": "2018-07-27T01:24:09.855179Z",
     "start_time": "2018-07-27T01:24:09.842843Z"
    },
    "collapsed": true
   },
   "outputs": [],
   "source": [
    "with tf.Session() as sess:\n",
    "    config = projector.ProjectorConfig()\n",
    "    # One can add multiple embeddings.\n",
    "    embedding = config.embeddings.add()\n",
    "    embedding.tensor_name = images.name\n",
    "    # Link this tensor to its metadata file (e.g. labels).\n",
    "    embedding.metadata_path = 'metadata.tsv'\n",
    "    # Saves a config file that TensorBoard will read during startup.\n",
    "    projector.visualize_embeddings(tf.summary.FileWriter(LOG_DIR), config)"
   ]
  },
  {
   "cell_type": "markdown",
   "metadata": {},
   "source": [
    "`tensorboard --logdir=image_projector`"
   ]
  },
  {
   "cell_type": "markdown",
   "metadata": {
    "ExecuteTime": {
     "end_time": "2018-07-19T21:42:19.517170Z",
     "start_time": "2018-07-19T21:42:19.512154Z"
    }
   },
   "source": [
    "## Method 2: With labels and images"
   ]
  },
  {
   "cell_type": "markdown",
   "metadata": {},
   "source": [
    "The max image sprite size supported by Tensorboard is 8192 x 8192, but the image projector will not load at this size. A much smaller size, like 2400 × 2400, loads quickly."
   ]
  },
  {
   "cell_type": "markdown",
   "metadata": {
    "ExecuteTime": {
     "end_time": "2018-07-26T22:21:53.605995Z",
     "start_time": "2018-07-26T22:21:53.598239Z"
    }
   },
   "source": [
    "### Get a list of images"
   ]
  },
  {
   "cell_type": "code",
   "execution_count": 20,
   "metadata": {
    "ExecuteTime": {
     "end_time": "2018-07-27T01:24:09.867030Z",
     "start_time": "2018-07-27T01:24:09.860484Z"
    },
    "collapsed": true
   },
   "outputs": [],
   "source": [
    "img_list = [i.replace('gs://', '/Users/victoria/') for i in uris]"
   ]
  },
  {
   "cell_type": "code",
   "execution_count": 21,
   "metadata": {
    "ExecuteTime": {
     "end_time": "2018-07-27T01:24:12.236073Z",
     "start_time": "2018-07-27T01:24:09.871548Z"
    },
    "collapsed": true
   },
   "outputs": [],
   "source": [
    "img_data=[]\n",
    "for img in img_list:\n",
    "    input_img = cv2.imread(img)\n",
    "    if input_img is not None:\n",
    "            img = cv2.resize(input_img, (75,75))\n",
    "            img_data.append(img)\n",
    "    else:\n",
    "        print(\"image not loaded\")"
   ]
  },
  {
   "cell_type": "code",
   "execution_count": 22,
   "metadata": {
    "ExecuteTime": {
     "end_time": "2018-07-27T01:24:12.475559Z",
     "start_time": "2018-07-27T01:24:12.241960Z"
    }
   },
   "outputs": [
    {
     "data": {
      "text/plain": [
       "<matplotlib.image.AxesImage at 0x10f0ae4d0>"
      ]
     },
     "execution_count": 22,
     "metadata": {},
     "output_type": "execute_result"
    },
    {
     "data": {
      "image/png": "[encoded data removed]",
      "text/plain": [
       "<matplotlib.figure.Figure at 0x1c300a6a90>"
      ]
     },
     "metadata": {},
     "output_type": "display_data"
    }
   ],
   "source": [
    "plt.imshow(img_data[900])"
   ]
  },
  {
   "cell_type": "code",
   "execution_count": 23,
   "metadata": {
    "ExecuteTime": {
     "end_time": "2018-07-27T01:24:12.498014Z",
     "start_time": "2018-07-27T01:24:12.480518Z"
    },
    "collapsed": true
   },
   "outputs": [],
   "source": [
    "img_data = np.array(img_data)"
   ]
  },
  {
   "cell_type": "code",
   "execution_count": 24,
   "metadata": {
    "ExecuteTime": {
     "end_time": "2018-07-27T01:24:12.511836Z",
     "start_time": "2018-07-27T01:24:12.502602Z"
    }
   },
   "outputs": [
    {
     "data": {
      "text/plain": [
       "(971, 75, 75, 3)"
      ]
     },
     "execution_count": 24,
     "metadata": {},
     "output_type": "execute_result"
    }
   ],
   "source": [
    "img_data.shape"
   ]
  },
  {
   "cell_type": "markdown",
   "metadata": {
    "ExecuteTime": {
     "end_time": "2018-07-26T23:38:24.292084Z",
     "start_time": "2018-07-26T23:38:24.287233Z"
    }
   },
   "source": [
    "### Make sprite"
   ]
  },
  {
   "cell_type": "code",
   "execution_count": 25,
   "metadata": {
    "ExecuteTime": {
     "end_time": "2018-07-27T01:24:12.871625Z",
     "start_time": "2018-07-27T01:24:12.516840Z"
    },
    "collapsed": true
   },
   "outputs": [],
   "source": [
    "def images_to_sprite(data):\n",
    "    \"\"\"Creates the sprite image along with any necessary padding\n",
    "    Args:\n",
    "      data: NxHxW[x3] tensor containing the images.\n",
    "    Returns:\n",
    "      data: Properly shaped HxWx3 image with any necessary padding.\n",
    "    \"\"\"\n",
    "    if len(data.shape) == 3:\n",
    "        data = np.tile(data[...,np.newaxis], (1,1,1,3))\n",
    "    data = data.astype(np.float32)\n",
    "    min = np.min(data.reshape((data.shape[0], -1)), axis=1)\n",
    "    data = (data.transpose(1,2,3,0) - min).transpose(3,0,1,2)\n",
    "    max = np.max(data.reshape((data.shape[0], -1)), axis=1)\n",
    "    data = (data.transpose(1,2,3,0) / max).transpose(3,0,1,2)\n",
    "    # Inverting the colors seems to look better for MNIST\n",
    "    #data = 1 - data\n",
    "\n",
    "    n = int(np.ceil(np.sqrt(data.shape[0])))\n",
    "    padding = ((0, n ** 2 - data.shape[0]), (0, 0),\n",
    "            (0, 0)) + ((0, 0),) * (data.ndim - 3)\n",
    "    data = np.pad(data, padding, mode='constant',\n",
    "            constant_values=0)\n",
    "    # Tile the individual thumbnails into an image.\n",
    "    data = data.reshape((n, n) + data.shape[1:]).transpose((0, 2, 1, 3)\n",
    "            + tuple(range(4, data.ndim + 1)))\n",
    "    data = data.reshape((n * data.shape[1], n * data.shape[3]) + data.shape[4:])\n",
    "    data = (data * 255).astype(np.uint8)\n",
    "    return data\n",
    "\n",
    "sprite = images_to_sprite(img_data)"
   ]
  },
  {
   "cell_type": "code",
   "execution_count": 26,
   "metadata": {
    "ExecuteTime": {
     "end_time": "2018-07-27T01:24:13.402858Z",
     "start_time": "2018-07-27T01:24:12.876480Z"
    }
   },
   "outputs": [
    {
     "data": {
      "text/plain": [
       "<matplotlib.image.AxesImage at 0x11b4ef6d0>"
      ]
     },
     "execution_count": 26,
     "metadata": {},
     "output_type": "execute_result"
    },
    {
     "data": {
      "image/png": "[encoded data removed]",
      "text/plain": [
       "<matplotlib.figure.Figure at 0x18275f8c90>"
      ]
     },
     "metadata": {},
     "output_type": "display_data"
    }
   ],
   "source": [
    "plt.imshow(sprite)"
   ]
  },
  {
   "cell_type": "markdown",
   "metadata": {
    "ExecuteTime": {
     "end_time": "2018-07-25T23:43:16.553334Z",
     "start_time": "2018-07-25T23:43:16.548584Z"
    }
   },
   "source": [
    "### Save labels"
   ]
  },
  {
   "cell_type": "code",
   "execution_count": 27,
   "metadata": {
    "ExecuteTime": {
     "end_time": "2018-07-27T01:24:13.413394Z",
     "start_time": "2018-07-27T01:24:13.407443Z"
    },
    "collapsed": true
   },
   "outputs": [],
   "source": [
    "from tensorflow.contrib.tensorboard.plugins import projector\n",
    "\n",
    "LOG_DIR = 'image_projector_sprite'\n",
    "metadata = os.path.join(LOG_DIR, 'metadata.tsv')"
   ]
  },
  {
   "cell_type": "code",
   "execution_count": 28,
   "metadata": {
    "ExecuteTime": {
     "end_time": "2018-07-27T01:24:13.425755Z",
     "start_time": "2018-07-27T01:24:13.418010Z"
    },
    "collapsed": true
   },
   "outputs": [],
   "source": [
    "with open(metadata, 'w') as metadata_file:\n",
    "    for i in labels:\n",
    "        metadata_file.write('%s\\n' % i)"
   ]
  },
  {
   "cell_type": "markdown",
   "metadata": {},
   "source": [
    "### Save embeddings"
   ]
  },
  {
   "cell_type": "code",
   "execution_count": 29,
   "metadata": {
    "ExecuteTime": {
     "end_time": "2018-07-27T01:24:13.797960Z",
     "start_time": "2018-07-27T01:24:13.431381Z"
    },
    "collapsed": true
   },
   "outputs": [],
   "source": [
    "images = tf.Variable(embeddings, name='images')\n",
    "\n",
    "with tf.Session() as sess:\n",
    "    saver = tf.train.Saver([images])\n",
    "    \n",
    "    sess.run(images.initializer)\n",
    "    saver.save(sess, os.path.join(LOG_DIR, 'images.ckpt'))"
   ]
  },
  {
   "cell_type": "markdown",
   "metadata": {},
   "source": [
    "### Save sprite"
   ]
  },
  {
   "cell_type": "code",
   "execution_count": 30,
   "metadata": {
    "ExecuteTime": {
     "end_time": "2018-07-27T01:24:14.019695Z",
     "start_time": "2018-07-27T01:24:13.802407Z"
    }
   },
   "outputs": [
    {
     "data": {
      "text/plain": [
       "True"
      ]
     },
     "execution_count": 30,
     "metadata": {},
     "output_type": "execute_result"
    }
   ],
   "source": [
    "cv2.imwrite(os.path.join(LOG_DIR, 'sprite.png'), sprite)"
   ]
  },
  {
   "cell_type": "markdown",
   "metadata": {},
   "source": [
    "### Add the embeddings and metadata to the projector config"
   ]
  },
  {
   "cell_type": "code",
   "execution_count": 31,
   "metadata": {
    "ExecuteTime": {
     "end_time": "2018-07-27T01:24:14.041409Z",
     "start_time": "2018-07-27T01:24:14.024454Z"
    },
    "collapsed": true
   },
   "outputs": [],
   "source": [
    "with tf.Session() as sess:\n",
    "    config = projector.ProjectorConfig()\n",
    "    # One can add multiple embeddings.\n",
    "    embedding = config.embeddings.add()\n",
    "    embedding.tensor_name = images.name\n",
    "    # Link this tensor to its metadata file (e.g. labels).\n",
    "    # embedding.metadata_path = metadata\n",
    "    embedding.metadata_path = 'metadata.tsv'\n",
    "    \n",
    "    # Specify the image sprite location (created below)\n",
    "    embedding.sprite.image_path = 'sprite.png'\n",
    "    embedding.sprite.single_image_dim.extend([75,75])\n",
    "\n",
    "    # Saves a config file that TensorBoard will read during startup.\n",
    "    projector.visualize_embeddings(tf.summary.FileWriter(LOG_DIR), config)"
   ]
  },
  {
   "cell_type": "markdown",
   "metadata": {
    "ExecuteTime": {
     "end_time": "2018-07-26T00:43:19.714279Z",
     "start_time": "2018-07-26T00:43:19.705800Z"
    }
   },
   "source": [
    "`tensorboard --logdir=image_projector_sprite`"
   ]
  },
  {
   "cell_type": "code",
   "execution_count": null,
   "metadata": {
    "collapsed": true
   },
   "outputs": [],
   "source": []
  }
 ],
 "metadata": {
  "kernelspec": {
   "display_name": "Python 3",
   "language": "python",
   "name": "python3"
  },
  "language_info": {
   "codemirror_mode": {
    "name": "ipython",
    "version": 3
   },
   "file_extension": ".py",
   "mimetype": "text/x-python",
   "name": "python",
   "nbconvert_exporter": "python",
   "pygments_lexer": "ipython3",
   "version": "3.6.1"
  },
  "toc": {
   "colors": {
    "hover_highlight": "#DAA520",
    "navigate_num": "#000000",
    "navigate_text": "#333333",
    "running_highlight": "#FF0000",
    "selected_highlight": "#FFD700",
    "sidebar_border": "#EEEEEE",
    "wrapper_background": "#FFFFFF"
   },
   "moveMenuLeft": true,
   "nav_menu": {
    "height": "157px",
    "width": "252px"
   },
   "navigate_menu": true,
   "number_sections": true,
   "sideBar": true,
   "threshold": 4,
   "toc_cell": false,
   "toc_position": {
    "height": "675px",
    "left": "0px",
    "right": "1123.37px",
    "top": "72px",
    "width": "266px"
   },
   "toc_section_display": "block",
   "toc_window_display": true,
   "widenNotebook": false
  }
 },
 "nbformat": 4,
 "nbformat_minor": 2
}
